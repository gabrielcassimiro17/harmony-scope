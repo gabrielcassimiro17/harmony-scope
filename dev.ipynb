{
 "cells": [
  {
   "cell_type": "code",
   "execution_count": 1,
   "metadata": {},
   "outputs": [],
   "source": [
    "from spotify.spotify_service import SpotifyManager\n",
    "import os\n",
    "\n",
    "def choose_playlist(spotify_manager):\n",
    "    playlists = spotify_manager.get_user_playlists()\n",
    "    for i, playlist in enumerate(playlists['items']):\n",
    "        print(f\"{i+1}: {playlist['name']}\")\n",
    "\n",
    "    # choice = int(input(\"Enter the number of the playlist you want to analyze: \"))\n",
    "    choice=26\n",
    "    return playlists['items'][choice - 1]['id']\n",
    "\n",
    "def main():\n",
    "    spotify_manager = SpotifyManager()\n",
    "    playlist_id = choose_playlist(spotify_manager)\n",
    "    full_track_data = spotify_manager.get_full_track_data(playlist_id)\n",
    "\n",
    "    for track_data in full_track_data:\n",
    "        track = track_data['track']\n",
    "        print(f\"{track['name']} by {track['artists'][0]['name']}\")\n",
    "        audio_features = track.get('audio_features')\n",
    "        if audio_features:\n",
    "            print(f\"  - Tempo: {audio_features['tempo']}\")\n",
    "            print(f\"  - Key: {audio_features['key']}\")\n",
    "            # Add more features as needed\n",
    "    print(track_data)"
   ]
  },
  {
   "cell_type": "code",
   "execution_count": 2,
   "metadata": {},
   "outputs": [
    {
     "name": "stdout",
     "output_type": "stream",
     "text": [
      "1: Facemelts Top 50 Songs of 23 (Official)\n",
      "2: Bass\n",
      "3: House Party\n",
      "4: Home & Hosed\n",
      "5: Something More\n",
      "6: triple j's 40 Years of Music\n",
      "7: Soft Office\n",
      "8: Facemelts February \n",
      "9: ELETRONICAS 2024 ⚡ MAIS TOCADAS\n",
      "10: Playlist #112 \n",
      "11: Your Top Songs 2023\n",
      "12: This Is Clutch\n",
      "13: Paul Mcartney 2023\n",
      "14: Bem\n",
      "15: This Is Slightly Stoopid\n",
      "16: Indie Halloween\n",
      "17: Halloween 2023\n",
      "18: Halloween Playlist 2024🎃\n",
      "19: playlist #184\n",
      "20: Funk Mix\n",
      "21: Instrumental Rock\n",
      "22: Garage band\n",
      "23: This Is Pitty\n",
      "24: This Is Bruno Mars\n",
      "25: Foo fighters setlist 2023\n",
      "26: Drums\n",
      "27: Rock Titans\n",
      "28: kilby girl energy\n",
      "29: Funky Psychedelic Grooves\n",
      "30: Parcels Discography\n",
      "31: French\n",
      "32: Foo Fighters 2023\n",
      "33: Funky\n",
      "34: New Be\n",
      "35: Voice exercises \n",
      "36: Canto\n",
      "37: 50s Party\n",
      "38: New rock\n",
      "39: GREATEST DRUMMERS OF ALL TIME\n",
      "40: Ale cantar\n",
      "41: Indie Rock Gems 2\n",
      "42: Pagode Mix\n",
      "43: Calm Indie Rock\n",
      "44: Calm Alternative Rock\n",
      "45: Calming Piano Instrumentals\n",
      "46: 2000s Happy Road Trip\n",
      "47: Hidden Gems of Rock\n",
      "48: Indie Rock Hidden Gems\n",
      "49: Noivado - Pré Festa\n",
      "50: Noivado - pós festa\n"
     ]
    }
   ],
   "source": [
    "spotify_manager = SpotifyManager()\n",
    "playlist_id = choose_playlist(spotify_manager)\n",
    "full_track_data = spotify_manager.get_full_track_data(playlist_id)"
   ]
  },
  {
   "cell_type": "code",
   "execution_count": 9,
   "metadata": {},
   "outputs": [
    {
     "data": {
      "text/plain": [
       "dict_keys(['album', 'artists', 'available_markets', 'disc_number', 'duration_ms', 'episode', 'explicit', 'external_ids', 'external_urls', 'href', 'id', 'is_local', 'name', 'popularity', 'preview_url', 'track', 'track_number', 'type', 'uri', 'audio_features'])"
      ]
     },
     "execution_count": 9,
     "metadata": {},
     "output_type": "execute_result"
    }
   ],
   "source": [
    "full_track_data[0]['track'].keys()"
   ]
  },
  {
   "cell_type": "code",
   "execution_count": 11,
   "metadata": {},
   "outputs": [
    {
     "data": {
      "text/plain": [
       "[{'external_urls': {'spotify': 'https://open.spotify.com/artist/3ZGr7nQBXDU2WhyXgRVbt0'},\n",
       "  'href': 'https://api.spotify.com/v1/artists/3ZGr7nQBXDU2WhyXgRVbt0',\n",
       "  'id': '3ZGr7nQBXDU2WhyXgRVbt0',\n",
       "  'name': 'Sticky Fingers',\n",
       "  'type': 'artist',\n",
       "  'uri': 'spotify:artist:3ZGr7nQBXDU2WhyXgRVbt0'}]"
      ]
     },
     "execution_count": 11,
     "metadata": {},
     "output_type": "execute_result"
    }
   ],
   "source": [
    "full_track_data[0]['track']['artists']"
   ]
  }
 ],
 "metadata": {
  "kernelspec": {
   "display_name": "harmony_scope",
   "language": "python",
   "name": "python3"
  },
  "language_info": {
   "codemirror_mode": {
    "name": "ipython",
    "version": 3
   },
   "file_extension": ".py",
   "mimetype": "text/x-python",
   "name": "python",
   "nbconvert_exporter": "python",
   "pygments_lexer": "ipython3",
   "version": "3.11.1"
  }
 },
 "nbformat": 4,
 "nbformat_minor": 2
}
