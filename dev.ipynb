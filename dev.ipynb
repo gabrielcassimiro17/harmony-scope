{
 "cells": [
  {
   "cell_type": "code",
   "execution_count": 1,
   "metadata": {},
   "outputs": [
    {
     "name": "stderr",
     "output_type": "stream",
     "text": [
      "/var/folders/nn/1yjvcwm12w78v3fpkk6_2_r00000gn/T/ipykernel_90704/4080736814.py:1: DeprecationWarning: \n",
      "Pyarrow will become a required dependency of pandas in the next major release of pandas (pandas 3.0),\n",
      "(to allow more performant data types, such as the Arrow string type, and better interoperability with other libraries)\n",
      "but was not found to be installed on your system.\n",
      "If this would cause problems for you,\n",
      "please provide us feedback at https://github.com/pandas-dev/pandas/issues/54466\n",
      "        \n",
      "  import pandas as pd\n"
     ]
    }
   ],
   "source": [
    "import pandas as pd"
   ]
  },
  {
   "cell_type": "code",
   "execution_count": 2,
   "metadata": {},
   "outputs": [],
   "source": [
    "from spotify.spotify_service import SpotifyManager\n",
    "import os\n",
    "\n",
    "def choose_playlist(spotify_manager):\n",
    "    playlists = spotify_manager.get_user_playlists()\n",
    "    for i, playlist in enumerate(playlists['items']):\n",
    "        print(f\"{i+1}: {playlist['name']}\")\n",
    "\n",
    "    # choice = int(input(\"Enter the number of the playlist you want to analyze: \"))\n",
    "    choice=26\n",
    "    return playlists['items'][choice - 1]['id']\n",
    "\n",
    "def main():\n",
    "    spotify_manager = SpotifyManager()\n",
    "    playlist_id = choose_playlist(spotify_manager)\n",
    "    full_track_data = spotify_manager.get_full_track_data(playlist_id)\n",
    "\n",
    "    for track_data in full_track_data:\n",
    "        track = track_data['track']\n",
    "        print(f\"{track['name']} by {track['artists'][0]['name']}\")\n",
    "        audio_features = track.get('audio_features')\n",
    "        if audio_features:\n",
    "            print(f\"  - Tempo: {audio_features['tempo']}\")\n",
    "            print(f\"  - Key: {audio_features['key']}\")\n",
    "            # Add more features as needed\n",
    "    print(track_data)"
   ]
  },
  {
   "cell_type": "code",
   "execution_count": 3,
   "metadata": {},
   "outputs": [
    {
     "name": "stdout",
     "output_type": "stream",
     "text": [
      "1: Facemelts Top 50 Songs of 23 (Official)\n",
      "2: Bass\n",
      "3: House Party\n",
      "4: Home & Hosed\n",
      "5: Something More\n",
      "6: triple j's 40 Years of Music\n",
      "7: Soft Office\n",
      "8: Facemelts February \n",
      "9: ELETRONICAS 2024 ⚡ MAIS TOCADAS\n",
      "10: Playlist #112 \n",
      "11: Your Top Songs 2023\n",
      "12: This Is Clutch\n",
      "13: Paul Mcartney 2023\n",
      "14: Bem\n",
      "15: This Is Slightly Stoopid\n",
      "16: Indie Halloween\n",
      "17: Halloween 2023\n",
      "18: Halloween Playlist 2024🎃\n",
      "19: playlist #184\n",
      "20: Funk Mix\n",
      "21: Instrumental Rock\n",
      "22: Garage band\n",
      "23: This Is Pitty\n",
      "24: This Is Bruno Mars\n",
      "25: Foo fighters setlist 2023\n",
      "26: Drums\n",
      "27: Rock Titans\n",
      "28: kilby girl energy\n",
      "29: Funky Psychedelic Grooves\n",
      "30: Parcels Discography\n",
      "31: French\n",
      "32: Foo Fighters 2023\n",
      "33: Funky\n",
      "34: New Be\n",
      "35: Voice exercises \n",
      "36: Canto\n",
      "37: 50s Party\n",
      "38: New rock\n",
      "39: GREATEST DRUMMERS OF ALL TIME\n",
      "40: Ale cantar\n",
      "41: Indie Rock Gems 2\n",
      "42: Pagode Mix\n",
      "43: Calm Indie Rock\n",
      "44: Calm Alternative Rock\n",
      "45: Calming Piano Instrumentals\n",
      "46: 2000s Happy Road Trip\n",
      "47: Hidden Gems of Rock\n",
      "48: Indie Rock Hidden Gems\n",
      "49: Noivado - Pré Festa\n",
      "50: Noivado - pós festa\n"
     ]
    }
   ],
   "source": [
    "spotify_manager = SpotifyManager()\n",
    "playlist_id = choose_playlist(spotify_manager)\n",
    "full_track_data = spotify_manager.get_full_track_data(playlist_id)"
   ]
  },
  {
   "cell_type": "code",
   "execution_count": 4,
   "metadata": {},
   "outputs": [
    {
     "data": {
      "text/plain": [
       "dict_keys(['added_at', 'added_by', 'is_local', 'primary_color', 'track', 'video_thumbnail'])"
      ]
     },
     "execution_count": 4,
     "metadata": {},
     "output_type": "execute_result"
    }
   ],
   "source": [
    "full_track_data[0].keys()"
   ]
  },
  {
   "cell_type": "code",
   "execution_count": 4,
   "metadata": {},
   "outputs": [
    {
     "data": {
      "text/plain": [
       "dict_keys(['album', 'artists', 'available_markets', 'disc_number', 'duration_ms', 'episode', 'explicit', 'external_ids', 'external_urls', 'href', 'id', 'is_local', 'name', 'popularity', 'preview_url', 'track', 'track_number', 'type', 'uri', 'audio_features', 'artist_info', 'album_info'])"
      ]
     },
     "execution_count": 4,
     "metadata": {},
     "output_type": "execute_result"
    }
   ],
   "source": [
    "full_track_data[0]['track'].keys()"
   ]
  },
  {
   "cell_type": "code",
   "execution_count": 5,
   "metadata": {},
   "outputs": [
    {
     "data": {
      "text/plain": [
       "'2013-03-08'"
      ]
     },
     "execution_count": 5,
     "metadata": {},
     "output_type": "execute_result"
    }
   ],
   "source": [
    "full_track_data[0]['track']['album_info']['release_date']"
   ]
  },
  {
   "cell_type": "code",
   "execution_count": 5,
   "metadata": {},
   "outputs": [],
   "source": [
    "def filter_track_data(track_data):\n",
    "    # Initialize a new dictionary to hold the filtered data\n",
    "    filtered_data = {}\n",
    "\n",
    "    # Extract track information\n",
    "    track = track_data.get('track', {})\n",
    "    filtered_data['song_name'] = track.get('name')\n",
    "    filtered_data['song_popularity'] = track.get('popularity')\n",
    "\n",
    "    # Extract audio features\n",
    "    audio_features = track.get('audio_features', {})\n",
    "    filtered_data['audio_features'] = {key: audio_features[key] for key in audio_features if key not in ['type', 'id', 'uri', 'track_href', 'analysis_url']}\n",
    "\n",
    "    # Extract artist information (assuming first artist)\n",
    "    artist_info = track.get('artist_info', {})\n",
    "    filtered_data['artist_name'] = artist_info.get('name')\n",
    "    filtered_data['artist_popularity'] = artist_info.get('popularity')\n",
    "    # Include artist genres\n",
    "    filtered_data['artist_genres'] = artist_info.get('genres', [])\n",
    "\n",
    "    # Extract album information\n",
    "    album_info = track.get('album_info', {})\n",
    "    filtered_data['album_release_date'] = album_info.get('release_date')\n",
    "    filtered_data['album_popularity'] = album_info.get('popularity')\n",
    "\n",
    "    return filtered_data\n"
   ]
  },
  {
   "cell_type": "code",
   "execution_count": 6,
   "metadata": {},
   "outputs": [],
   "source": [
    "def dict_to_dataframe(track_data):\n",
    "    # Initialize a dictionary to hold the data for DataFrame creation\n",
    "    df_data = {}\n",
    "\n",
    "    # Add song name and artist name\n",
    "    df_data['song_name'] = [track_data['song_name']]\n",
    "    df_data['artist_name'] = [track_data['artist_name']]\n",
    "\n",
    "    # Add numerical audio features\n",
    "    for feature, value in track_data['audio_features'].items():\n",
    "        df_data[feature] = [value]\n",
    "\n",
    "    # Create a DataFrame\n",
    "    df = pd.DataFrame(df_data)\n",
    "\n",
    "    return df"
   ]
  },
  {
   "cell_type": "code",
   "execution_count": 7,
   "metadata": {},
   "outputs": [
    {
     "name": "stdout",
     "output_type": "stream",
     "text": [
      "(1, 15)\n"
     ]
    }
   ],
   "source": [
    "for track_data in full_track_data:\n",
    "    filtered_data = filter_track_data(track_data)\n",
    "    df = dict_to_dataframe(filtered_data)\n",
    "    print(df.shape)\n",
    "    break"
   ]
  },
  {
   "cell_type": "code",
   "execution_count": 8,
   "metadata": {},
   "outputs": [
    {
     "data": {
      "text/html": [
       "<div>\n",
       "<style scoped>\n",
       "    .dataframe tbody tr th:only-of-type {\n",
       "        vertical-align: middle;\n",
       "    }\n",
       "\n",
       "    .dataframe tbody tr th {\n",
       "        vertical-align: top;\n",
       "    }\n",
       "\n",
       "    .dataframe thead th {\n",
       "        text-align: right;\n",
       "    }\n",
       "</style>\n",
       "<table border=\"1\" class=\"dataframe\">\n",
       "  <thead>\n",
       "    <tr style=\"text-align: right;\">\n",
       "      <th></th>\n",
       "      <th>song_name</th>\n",
       "      <th>artist_name</th>\n",
       "      <th>danceability</th>\n",
       "      <th>energy</th>\n",
       "      <th>key</th>\n",
       "      <th>loudness</th>\n",
       "      <th>mode</th>\n",
       "      <th>speechiness</th>\n",
       "      <th>acousticness</th>\n",
       "      <th>instrumentalness</th>\n",
       "      <th>liveness</th>\n",
       "      <th>valence</th>\n",
       "      <th>tempo</th>\n",
       "      <th>duration_ms</th>\n",
       "      <th>time_signature</th>\n",
       "    </tr>\n",
       "  </thead>\n",
       "  <tbody>\n",
       "    <tr>\n",
       "      <th>0</th>\n",
       "      <td>How To Fly</td>\n",
       "      <td>Sticky Fingers</td>\n",
       "      <td>0.677</td>\n",
       "      <td>0.644</td>\n",
       "      <td>8</td>\n",
       "      <td>-9.337</td>\n",
       "      <td>0</td>\n",
       "      <td>0.0971</td>\n",
       "      <td>0.161</td>\n",
       "      <td>0.00178</td>\n",
       "      <td>0.106</td>\n",
       "      <td>0.536</td>\n",
       "      <td>151.065</td>\n",
       "      <td>202187</td>\n",
       "      <td>4</td>\n",
       "    </tr>\n",
       "  </tbody>\n",
       "</table>\n",
       "</div>"
      ],
      "text/plain": [
       "    song_name     artist_name  danceability  energy  key  loudness  mode  \\\n",
       "0  How To Fly  Sticky Fingers         0.677   0.644    8    -9.337     0   \n",
       "\n",
       "   speechiness  acousticness  instrumentalness  liveness  valence    tempo  \\\n",
       "0       0.0971         0.161           0.00178     0.106    0.536  151.065   \n",
       "\n",
       "   duration_ms  time_signature  \n",
       "0       202187               4  "
      ]
     },
     "execution_count": 8,
     "metadata": {},
     "output_type": "execute_result"
    }
   ],
   "source": [
    "df\n"
   ]
  },
  {
   "cell_type": "code",
   "execution_count": 16,
   "metadata": {},
   "outputs": [
    {
     "data": {
      "text/plain": [
       "{'song_name': 'How To Fly',\n",
       " 'song_popularity': 71,\n",
       " 'audio_features': {'danceability': 0.677,\n",
       "  'energy': 0.644,\n",
       "  'key': 8,\n",
       "  'loudness': -9.337,\n",
       "  'mode': 0,\n",
       "  'speechiness': 0.0971,\n",
       "  'acousticness': 0.161,\n",
       "  'instrumentalness': 0.00178,\n",
       "  'liveness': 0.106,\n",
       "  'valence': 0.536,\n",
       "  'tempo': 151.065,\n",
       "  'duration_ms': 202187,\n",
       "  'time_signature': 4},\n",
       " 'artist_name': 'Sticky Fingers',\n",
       " 'artist_popularity': 63.0,\n",
       " 'artist_genres': ['australian reggae fusion',\n",
       "  'australian surf rock',\n",
       "  'reggae fusion'],\n",
       " 'album_release_date': '2013-03-08',\n",
       " 'album_popularity': 71}"
      ]
     },
     "execution_count": 16,
     "metadata": {},
     "output_type": "execute_result"
    }
   ],
   "source": [
    "filtered_data = filter_track_data(full_track_data[0])\n",
    "filtered_data"
   ]
  },
  {
   "cell_type": "code",
   "execution_count": 15,
   "metadata": {},
   "outputs": [],
   "source": [
    "def dict_to_dataframe(track_data):\n",
    "    # Initialize a dictionary to hold the data for DataFrame creation\n",
    "    df_data = {}\n",
    "\n",
    "    # Add song name and artist name\n",
    "    df_data['song_name'] = [track_data['song_name']]\n",
    "    df_data['artist_name'] = [track_data['artist_name']]\n",
    "\n",
    "    # Add numerical audio features\n",
    "    for feature, value in track_data['audio_features'].items():\n",
    "        df_data[feature] = [value]\n",
    "\n",
    "    # Create a DataFrame\n",
    "    df = pd.DataFrame(df_data)\n",
    "\n",
    "    return df"
   ]
  },
  {
   "cell_type": "code",
   "execution_count": 17,
   "metadata": {},
   "outputs": [
    {
     "data": {
      "text/html": [
       "<div>\n",
       "<style scoped>\n",
       "    .dataframe tbody tr th:only-of-type {\n",
       "        vertical-align: middle;\n",
       "    }\n",
       "\n",
       "    .dataframe tbody tr th {\n",
       "        vertical-align: top;\n",
       "    }\n",
       "\n",
       "    .dataframe thead th {\n",
       "        text-align: right;\n",
       "    }\n",
       "</style>\n",
       "<table border=\"1\" class=\"dataframe\">\n",
       "  <thead>\n",
       "    <tr style=\"text-align: right;\">\n",
       "      <th></th>\n",
       "      <th>song_name</th>\n",
       "      <th>artist_name</th>\n",
       "      <th>danceability</th>\n",
       "      <th>energy</th>\n",
       "      <th>key</th>\n",
       "      <th>loudness</th>\n",
       "      <th>mode</th>\n",
       "      <th>speechiness</th>\n",
       "      <th>acousticness</th>\n",
       "      <th>instrumentalness</th>\n",
       "      <th>liveness</th>\n",
       "      <th>valence</th>\n",
       "      <th>tempo</th>\n",
       "      <th>duration_ms</th>\n",
       "      <th>time_signature</th>\n",
       "    </tr>\n",
       "  </thead>\n",
       "  <tbody>\n",
       "    <tr>\n",
       "      <th>0</th>\n",
       "      <td>How To Fly</td>\n",
       "      <td>Sticky Fingers</td>\n",
       "      <td>0.677</td>\n",
       "      <td>0.644</td>\n",
       "      <td>8</td>\n",
       "      <td>-9.337</td>\n",
       "      <td>0</td>\n",
       "      <td>0.0971</td>\n",
       "      <td>0.161</td>\n",
       "      <td>0.00178</td>\n",
       "      <td>0.106</td>\n",
       "      <td>0.536</td>\n",
       "      <td>151.065</td>\n",
       "      <td>202187</td>\n",
       "      <td>4</td>\n",
       "    </tr>\n",
       "  </tbody>\n",
       "</table>\n",
       "</div>"
      ],
      "text/plain": [
       "    song_name     artist_name  danceability  energy  key  loudness  mode  \\\n",
       "0  How To Fly  Sticky Fingers         0.677   0.644    8    -9.337     0   \n",
       "\n",
       "   speechiness  acousticness  instrumentalness  liveness  valence    tempo  \\\n",
       "0       0.0971         0.161           0.00178     0.106    0.536  151.065   \n",
       "\n",
       "   duration_ms  time_signature  \n",
       "0       202187               4  "
      ]
     },
     "execution_count": 17,
     "metadata": {},
     "output_type": "execute_result"
    }
   ],
   "source": [
    "dict_to_dataframe(filtered_data)"
   ]
  },
  {
   "cell_type": "code",
   "execution_count": 6,
   "metadata": {},
   "outputs": [],
   "source": [
    "def print_dict_keys(d, indent=0):\n",
    "    for key, value in d.items():\n",
    "        print(' ' * indent + str(key))\n",
    "        if isinstance(value, dict):\n",
    "            print_dict_keys(value, indent + 4)  # Increase indentation for nested dictionaries\n"
   ]
  },
  {
   "cell_type": "code",
   "execution_count": 7,
   "metadata": {},
   "outputs": [
    {
     "name": "stdout",
     "output_type": "stream",
     "text": [
      "added_at\n",
      "added_by\n",
      "    external_urls\n",
      "        spotify\n",
      "    href\n",
      "    id\n",
      "    type\n",
      "    uri\n",
      "is_local\n",
      "primary_color\n",
      "track\n",
      "    album\n",
      "        album_type\n",
      "        artists\n",
      "        available_markets\n",
      "        external_urls\n",
      "            spotify\n",
      "        href\n",
      "        id\n",
      "        images\n",
      "        name\n",
      "        release_date\n",
      "        release_date_precision\n",
      "        total_tracks\n",
      "        type\n",
      "        uri\n",
      "    artists\n",
      "    available_markets\n",
      "    disc_number\n",
      "    duration_ms\n",
      "    episode\n",
      "    explicit\n",
      "    external_ids\n",
      "        isrc\n",
      "    external_urls\n",
      "        spotify\n",
      "    href\n",
      "    id\n",
      "    is_local\n",
      "    name\n",
      "    popularity\n",
      "    preview_url\n",
      "    track\n",
      "    track_number\n",
      "    type\n",
      "    uri\n",
      "    audio_features\n",
      "        danceability\n",
      "        energy\n",
      "        key\n",
      "        loudness\n",
      "        mode\n",
      "        speechiness\n",
      "        acousticness\n",
      "        instrumentalness\n",
      "        liveness\n",
      "        valence\n",
      "        tempo\n",
      "        type\n",
      "        id\n",
      "        uri\n",
      "        track_href\n",
      "        analysis_url\n",
      "        duration_ms\n",
      "        time_signature\n",
      "    artist_info\n",
      "        external_urls\n",
      "            spotify\n",
      "        followers\n",
      "            href\n",
      "            total\n",
      "        genres\n",
      "        href\n",
      "        id\n",
      "        images\n",
      "        name\n",
      "        popularity\n",
      "        type\n",
      "        uri\n",
      "    album_info\n",
      "        album_type\n",
      "        artists\n",
      "        available_markets\n",
      "        copyrights\n",
      "        external_ids\n",
      "            upc\n",
      "        external_urls\n",
      "            spotify\n",
      "        genres\n",
      "        href\n",
      "        id\n",
      "        images\n",
      "        label\n",
      "        name\n",
      "        popularity\n",
      "        release_date\n",
      "        release_date_precision\n",
      "        total_tracks\n",
      "        tracks\n",
      "            href\n",
      "            items\n",
      "            limit\n",
      "            next\n",
      "            offset\n",
      "            previous\n",
      "            total\n",
      "        type\n",
      "        uri\n",
      "video_thumbnail\n",
      "    url\n"
     ]
    }
   ],
   "source": [
    "print_dict_keys(full_track_data[0])"
   ]
  },
  {
   "cell_type": "code",
   "execution_count": null,
   "metadata": {},
   "outputs": [],
   "source": []
  }
 ],
 "metadata": {
  "kernelspec": {
   "display_name": "harmony_scope",
   "language": "python",
   "name": "python3"
  },
  "language_info": {
   "codemirror_mode": {
    "name": "ipython",
    "version": 3
   },
   "file_extension": ".py",
   "mimetype": "text/x-python",
   "name": "python",
   "nbconvert_exporter": "python",
   "pygments_lexer": "ipython3",
   "version": "3.11.1"
  }
 },
 "nbformat": 4,
 "nbformat_minor": 2
}
