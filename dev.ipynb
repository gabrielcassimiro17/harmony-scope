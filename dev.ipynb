{
 "cells": [
  {
   "cell_type": "code",
   "execution_count": 29,
   "metadata": {},
   "outputs": [],
   "source": [
    "import pandas as pd"
   ]
  },
  {
   "cell_type": "code",
   "execution_count": 30,
   "metadata": {},
   "outputs": [],
   "source": [
    "from spotify.spotify_service import SpotifyManager\n",
    "import os\n",
    "\n",
    "def choose_playlist(spotify_manager):\n",
    "    playlists = spotify_manager.get_user_playlists()\n",
    "    for i, playlist in enumerate(playlists['items']):\n",
    "        print(f\"{i+1}: {playlist['name']}\")\n",
    "\n",
    "    choice = 1#int(input(\"Enter the number of the playlist you want to analyze: \"))\n",
    "    # choice=26\n",
    "    return playlists['items'][choice - 1]['id']\n",
    "\n",
    "def main():\n",
    "    spotify_manager = SpotifyManager()\n",
    "    playlist_id = choose_playlist(spotify_manager)\n",
    "    print(playlist_id)\n",
    "    full_track_data = spotify_manager.get_full_track_data(playlist_id)\n",
    "\n",
    "    for track_data in full_track_data:\n",
    "        track = track_data['track']\n",
    "        print(f\"{track['name']} by {track['artists'][0]['name']}\")\n",
    "        audio_features = track.get('audio_features')\n",
    "        if audio_features:\n",
    "            print(f\"  - Tempo: {audio_features['tempo']}\")\n",
    "            print(f\"  - Key: {audio_features['key']}\")\n",
    "            # Add more features as needed\n",
    "    print(track_data)"
   ]
  },
  {
   "cell_type": "code",
   "execution_count": 32,
   "metadata": {},
   "outputs": [
    {
     "ename": "NameError",
     "evalue": "name 'SpotifyOAuth' is not defined",
     "output_type": "error",
     "traceback": [
      "\u001b[0;31m---------------------------------------------------------------------------\u001b[0m",
      "\u001b[0;31mNameError\u001b[0m                                 Traceback (most recent call last)",
      "Cell \u001b[0;32mIn[32], line 3\u001b[0m\n\u001b[1;32m      1\u001b[0m \u001b[38;5;28;01mimport\u001b[39;00m \u001b[38;5;21;01mspotipy\u001b[39;00m\n\u001b[1;32m      2\u001b[0m sp \u001b[38;5;241m=\u001b[39m spotipy\u001b[38;5;241m.\u001b[39mSpotify(\n\u001b[0;32m----> 3\u001b[0m             auth_manager\u001b[38;5;241m=\u001b[39m\u001b[43mSpotifyOAuth\u001b[49m(\n\u001b[1;32m      4\u001b[0m                 client_id\u001b[38;5;241m=\u001b[39mos\u001b[38;5;241m.\u001b[39mgetenv(\u001b[38;5;124m\"\u001b[39m\u001b[38;5;124mSPOTIPY_CLIENT_ID\u001b[39m\u001b[38;5;124m\"\u001b[39m),\n\u001b[1;32m      5\u001b[0m                 client_secret\u001b[38;5;241m=\u001b[39mos\u001b[38;5;241m.\u001b[39mgetenv(\u001b[38;5;124m\"\u001b[39m\u001b[38;5;124mSPOTIPY_CLIENT_SECRET\u001b[39m\u001b[38;5;124m\"\u001b[39m),\n\u001b[1;32m      6\u001b[0m                 redirect_uri\u001b[38;5;241m=\u001b[39mos\u001b[38;5;241m.\u001b[39mgetenv(\u001b[38;5;124m\"\u001b[39m\u001b[38;5;124mSPOTIPY_REDIRECT_URI\u001b[39m\u001b[38;5;124m\"\u001b[39m),\n\u001b[1;32m      7\u001b[0m                 scope\u001b[38;5;241m=\u001b[39mscope,\n\u001b[1;32m      8\u001b[0m             )\n\u001b[1;32m      9\u001b[0m         )\n\u001b[1;32m     10\u001b[0m sp\u001b[38;5;241m.\u001b[39mcurrent_user_playlists(limit\u001b[38;5;241m=\u001b[39m\u001b[38;5;241m50\u001b[39m)\n",
      "\u001b[0;31mNameError\u001b[0m: name 'SpotifyOAuth' is not defined"
     ]
    }
   ],
   "source": [
    "import spotipy\n",
    "sp = spotipy.Spotify(\n",
    "            auth_manager=SpotifyOAuth(\n",
    "                client_id=os.getenv(\"SPOTIPY_CLIENT_ID\"),\n",
    "                client_secret=os.getenv(\"SPOTIPY_CLIENT_SECRET\"),\n",
    "                redirect_uri=os.getenv(\"SPOTIPY_REDIRECT_URI\"),\n",
    "                scope=scope,\n",
    "            )\n",
    "        )\n",
    "sp.current_user_playlists(limit=50)"
   ]
  },
  {
   "cell_type": "code",
   "execution_count": null,
   "metadata": {},
   "outputs": [],
   "source": [
    "spotify_manager = SpotifyManager()\n",
    "playlist_id = choose_playlist(spotify_manager)\n",
    "full_track_data = spotify_manager.get_full_track_data(playlist_id)"
   ]
  },
  {
   "cell_type": "code",
   "execution_count": null,
   "metadata": {},
   "outputs": [],
   "source": [
    "full_track_data[0].keys()"
   ]
  },
  {
   "cell_type": "code",
   "execution_count": null,
   "metadata": {},
   "outputs": [],
   "source": [
    "full_track_data[0]['track'].keys()"
   ]
  },
  {
   "cell_type": "code",
   "execution_count": null,
   "metadata": {},
   "outputs": [],
   "source": [
    "full_track_data[0]['track']['album_info']['release_date']"
   ]
  },
  {
   "cell_type": "code",
   "execution_count": null,
   "metadata": {},
   "outputs": [],
   "source": [
    "def filter_track_data(track_data):\n",
    "    # Initialize a new dictionary to hold the filtered data\n",
    "    filtered_data = {}\n",
    "\n",
    "    # Extract track information\n",
    "    track = track_data.get('track', {})\n",
    "    filtered_data['song_name'] = track.get('name')\n",
    "    filtered_data['song_popularity'] = track.get('popularity')\n",
    "\n",
    "    # Extract audio features\n",
    "    audio_features = track.get('audio_features', {})\n",
    "    filtered_data['audio_features'] = {key: audio_features[key] for key in audio_features if key not in ['type', 'id', 'uri', 'track_href', 'analysis_url']}\n",
    "\n",
    "    # Extract artist information (assuming first artist)\n",
    "    artist_info = track.get('artist_info', {})\n",
    "    filtered_data['artist_name'] = artist_info.get('name')\n",
    "    filtered_data['artist_popularity'] = artist_info.get('popularity')\n",
    "    # Include artist genres\n",
    "    filtered_data['artist_genres'] = artist_info.get('genres', [])\n",
    "\n",
    "    # Extract album information\n",
    "    album_info = track.get('album_info', {})\n",
    "    filtered_data['album_release_date'] = album_info.get('release_date')\n",
    "    filtered_data['album_popularity'] = album_info.get('popularity')\n",
    "\n",
    "    return filtered_data\n"
   ]
  },
  {
   "cell_type": "code",
   "execution_count": null,
   "metadata": {},
   "outputs": [],
   "source": [
    "def dict_to_dataframe(track_data):\n",
    "    # Initialize a dictionary to hold the data for DataFrame creation\n",
    "    df_data = {}\n",
    "\n",
    "    # Add song name and artist name\n",
    "    df_data['song_name'] = [track_data['song_name']]\n",
    "    df_data['artist_name'] = [track_data['artist_name']]\n",
    "\n",
    "    # Add numerical audio features\n",
    "    for feature, value in track_data['audio_features'].items():\n",
    "        df_data[feature] = [value]\n",
    "\n",
    "    # Create a DataFrame\n",
    "    df = pd.DataFrame(df_data)\n",
    "\n",
    "    return df"
   ]
  },
  {
   "cell_type": "code",
   "execution_count": null,
   "metadata": {},
   "outputs": [],
   "source": [
    "songs = []\n",
    "for track_data in full_track_data:\n",
    "    filtered_data = filter_track_data(track_data)\n",
    "    songs.append(filtered_data)\n",
    "    df = dict_to_dataframe(filtered_data)\n",
    "    print(df.shape)\n"
   ]
  },
  {
   "cell_type": "code",
   "execution_count": null,
   "metadata": {},
   "outputs": [],
   "source": [
    "len(songs)"
   ]
  },
  {
   "cell_type": "code",
   "execution_count": null,
   "metadata": {},
   "outputs": [],
   "source": [
    "df\n"
   ]
  },
  {
   "cell_type": "code",
   "execution_count": null,
   "metadata": {},
   "outputs": [],
   "source": [
    "filtered_data = filter_track_data(full_track_data[0])\n",
    "filtered_data"
   ]
  },
  {
   "cell_type": "code",
   "execution_count": null,
   "metadata": {},
   "outputs": [],
   "source": [
    "def dict_to_dataframe(track_data):\n",
    "    # Initialize a dictionary to hold the data for DataFrame creation\n",
    "    df_data = {}\n",
    "\n",
    "    # Add song name and artist name\n",
    "    df_data['song_name'] = [track_data['song_name']]\n",
    "    df_data['artist_name'] = [track_data['artist_name']]\n",
    "\n",
    "    # Add numerical audio features\n",
    "    for feature, value in track_data['audio_features'].items():\n",
    "        df_data[feature] = [value]\n",
    "\n",
    "    # Create a DataFrame\n",
    "    df = pd.DataFrame(df_data)\n",
    "\n",
    "    return df"
   ]
  },
  {
   "cell_type": "code",
   "execution_count": null,
   "metadata": {},
   "outputs": [],
   "source": [
    "dict_to_dataframe(filtered_data)"
   ]
  },
  {
   "cell_type": "code",
   "execution_count": null,
   "metadata": {},
   "outputs": [],
   "source": [
    "def print_dict_keys(d, indent=0):\n",
    "    for key, value in d.items():\n",
    "        print(' ' * indent + str(key))\n",
    "        if isinstance(value, dict):\n",
    "            print_dict_keys(value, indent + 4)  # Increase indentation for nested dictionaries\n"
   ]
  },
  {
   "cell_type": "code",
   "execution_count": null,
   "metadata": {},
   "outputs": [],
   "source": [
    "print_dict_keys(full_track_data[0])"
   ]
  },
  {
   "cell_type": "code",
   "execution_count": null,
   "metadata": {},
   "outputs": [],
   "source": [
    "from utils.spotify_utils import choose_playlist, filter_track_data, dict_to_dataframe\n",
    "import pandas as pd\n",
    "from spotify.spotify_service import SpotifyManager\n",
    "from clustering.song_clusterer import SongClusterer\n",
    "\n",
    "spotify_manager = SpotifyManager()\n",
    "playlist_id = '4Haf9xLfppVCbx3lcZvLUs'#choose_playlist(spotify_manager)\n",
    "full_track_data = spotify_manager.get_full_track_data(playlist_id)\n",
    "\n",
    "track_dfs = []\n",
    "for track_data in full_track_data:\n",
    "    if isinstance(track_data.get('track'), dict):\n",
    "        filtered_dict = filter_track_data(track_data)\n",
    "        track_df = dict_to_dataframe(filtered_dict)\n",
    "        track_dfs.append(track_df)\n",
    "    else:\n",
    "        print(f\"Skipping track due to unexpected data format: {track_data}\")\n",
    "\n",
    "# Only proceed if there are DataFrames to concatenate\n",
    "if track_dfs:\n",
    "    full_df = pd.concat(track_dfs, ignore_index=True)\n",
    "    # Specify the features columns used for clustering\n",
    "\n",
    "    # Define hyperparameters for DBSCAN\n",
    "    hyperparams = {'eps': 0.9, 'min_samples': 2}\n",
    "\n",
    "    # Create an instance of SongClusterer and apply clustering\n",
    "    clusterer = SongClusterer(hyperparams)\n",
    "    clustered_df = clusterer.apply_dbscan_clustering(full_df)\n",
    "\n",
    "    # Analyze the clusters\n",
    "    clusterer.analyze_clusters(clustered_df)\n",
    "\n",
    "    # Optionally, save the clustered DataFrame to a new CSV\n",
    "    clustered_df.to_csv('clustered_playlist_songs_info.csv', index=False)\n",
    "else:\n",
    "    print(\"No track data to save.\")\n"
   ]
  },
  {
   "cell_type": "code",
   "execution_count": null,
   "metadata": {},
   "outputs": [],
   "source": [
    "clustered_df"
   ]
  },
  {
   "cell_type": "code",
   "execution_count": null,
   "metadata": {},
   "outputs": [],
   "source": [
    "from llm.llm_config import initialize_google_llm\n",
    "\n",
    "llm = initialize_google_llm()\n",
    "\n",
    "\n",
    "llm.invoke(\"hello\")"
   ]
  },
  {
   "cell_type": "code",
   "execution_count": null,
   "metadata": {},
   "outputs": [],
   "source": [
    "\n",
    "# from llm.llm_config import initialize_openai_llm\n",
    "\n",
    "# llm = initialize_openai_llm()\n",
    "\n",
    "# llm.invoke(\"hello\")"
   ]
  },
  {
   "cell_type": "code",
   "execution_count": null,
   "metadata": {},
   "outputs": [],
   "source": [
    "from llm.chains import build_analyser_chain\n"
   ]
  },
  {
   "cell_type": "code",
   "execution_count": null,
   "metadata": {},
   "outputs": [],
   "source": [
    "chain = build_analyser_chain()"
   ]
  },
  {
   "cell_type": "code",
   "execution_count": null,
   "metadata": {},
   "outputs": [],
   "source": [
    "inputs = {\n",
    "    \"songs\": songs,\n",
    "    \"clustering_analysis\": \"\"\n",
    "}\n",
    "\n",
    "response = chain.invoke(inputs)"
   ]
  },
  {
   "cell_type": "code",
   "execution_count": null,
   "metadata": {},
   "outputs": [],
   "source": [
    "print(response.content)"
   ]
  },
  {
   "cell_type": "code",
   "execution_count": null,
   "metadata": {},
   "outputs": [],
   "source": []
  }
 ],
 "metadata": {
  "kernelspec": {
   "display_name": "harmony_scope",
   "language": "python",
   "name": "python3"
  },
  "language_info": {
   "codemirror_mode": {
    "name": "ipython",
    "version": 3
   },
   "file_extension": ".py",
   "mimetype": "text/x-python",
   "name": "python",
   "nbconvert_exporter": "python",
   "pygments_lexer": "ipython3",
   "version": "3.11.1"
  }
 },
 "nbformat": 4,
 "nbformat_minor": 2
}
